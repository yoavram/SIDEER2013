{
 "metadata": {
  "name": "presentation"
 },
 "nbformat": 3,
 "nbformat_minor": 0,
 "worksheets": [
  {
   "cells": [
    {
     "cell_type": "markdown",
     "metadata": {
      "slideshow": {
       "slide_type": "slide"
      }
     },
     "source": [
      "# The role of stress-induced mutation in the emergence of complex adaptations\n",
      "## Yoav Ram & Lilach Hadany\n",
      "\n",
      "![](http://www.bgu.ac.il/BIDR/conf/sideergrads/SIDEER_symposium/homepage_files/shapeimage_2.png) \n",
      "\n",
      "# SIDEER 2013 Symposium\n",
      "## Sede Boqer, 20/3/2013"
     ]
    },
    {
     "cell_type": "markdown",
     "metadata": {
      "slideshow": {
       "slide_type": "slide"
      }
     },
     "source": [
      "# Adaptation on complex fitness landscapes\n",
      "\n",
      "Some mutations are deleterious alone but beneficial together. \n",
      "\n",
      "This is the source of an interesting problem in evolution: \n",
      "**how can populations shift peaks from a local fitness maximum to a global fitness maximum?**\n"
     ]
    },
    {
     "cell_type": "code",
     "collapsed": false,
     "input": [
      "import matplotlib.pyplot as plt\n",
      "plt.plot(range(10));"
     ],
     "language": "python",
     "metadata": {
      "slideshow": {
       "slide_type": "subslide"
      }
     },
     "outputs": [
      {
       "output_type": "display_data",
       "png": "[encoded data removed]",
       "text": [
        "<matplotlib.figure.Figure at 0xa4d620c>"
       ]
      }
     ],
     "prompt_number": 1
    },
    {
     "cell_type": "markdown",
     "metadata": {},
     "source": [
      "The genotypes: *ab*, *Ab*, *aB*, *AB*.\n",
      "    \n",
      "The fitness: 1, 1-s, 1-s, and 1+Hs.\n",
      "    \n",
      "$\\alpha =  \\frac{1+Hs}{\\bar{\\omega}}$\n"
     ]
    }
   ],
   "metadata": {}
  }
 ]
}